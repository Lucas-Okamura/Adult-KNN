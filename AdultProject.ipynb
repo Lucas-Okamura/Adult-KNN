{
 "cells": [
  {
   "cell_type": "markdown",
   "metadata": {},
   "source": [
    "# PMR3508 - Aprendizado de Máquina e Reconhecimento de Padrões\n",
    "\n",
    "Testing kNN with adult database from UCI repository.\n",
    "\n",
    "**Author:** Lucas Hideki Takeuchi Okamura\n",
    "\n",
    "**Hash:** 50\n",
    "\n",
    "## 1. Imports"
   ]
  },
  {
   "cell_type": "code",
   "execution_count": 1,
   "metadata": {
    "ExecuteTime": {
     "end_time": "2021-11-29T01:36:22.714410Z",
     "start_time": "2021-11-29T01:35:38.272271Z"
    }
   },
   "outputs": [],
   "source": [
    "import numpy as np\n",
    "import pandas as pd\n",
    "\n",
    "import matplotlib.pyplot as plt\n",
    "import seaborn as sns\n",
    "from scikitplot import metrics as mt\n",
    "\n",
    "from sklearn.preprocessing import RobustScaler, StandardScaler, OrdinalEncoder\n",
    "from sklearn.neighbors import KNeighborsClassifier\n",
    "from sklearn.model_selection import GridSearchCV, RandomizedSearchCV, cross_val_score, train_test_split\n",
    "from sklearn.metrics import accuracy_score, classification_report,recall_score,f1_score,roc_auc_score, plot_precision_recall_curve, precision_score,roc_curve\n",
    "from sklearn.svm import SVC\n",
    "from sklearn.ensemble import RandomForestClassifier\n",
    "from xgboost import XGBClassifier\n",
    "from sklearn.neural_network import MLPClassifier\n",
    "\n",
    "from scipy.stats import loguniform as sp_loguniform\n",
    "\n",
    "import warnings\n",
    "warnings.filterwarnings('ignore')"
   ]
  },
  {
   "cell_type": "markdown",
   "metadata": {},
   "source": [
    "## 2. Loading Dataset"
   ]
  },
  {
   "cell_type": "code",
   "execution_count": 2,
   "metadata": {
    "ExecuteTime": {
     "end_time": "2021-11-29T01:36:23.557660Z",
     "start_time": "2021-11-29T01:36:22.716358Z"
    }
   },
   "outputs": [],
   "source": [
    "train = pd.read_csv('./data/train_data.csv', \n",
    "                    sep=r'\\s*,\\s*',\n",
    "                    engine='python',\n",
    "                    na_values=\"?\")\n",
    "test = pd.read_csv('./data/test_data.csv', \n",
    "                   sep=r'\\s*,\\s*',\n",
    "                    engine='python',\n",
    "                    na_values=\"?\")"
   ]
  },
  {
   "cell_type": "code",
   "execution_count": 3,
   "metadata": {
    "ExecuteTime": {
     "end_time": "2021-11-29T01:36:23.604676Z",
     "start_time": "2021-11-29T01:36:23.559657Z"
    }
   },
   "outputs": [
    {
     "data": {
      "text/html": [
       "<div>\n",
       "<style scoped>\n",
       "    .dataframe tbody tr th:only-of-type {\n",
       "        vertical-align: middle;\n",
       "    }\n",
       "\n",
       "    .dataframe tbody tr th {\n",
       "        vertical-align: top;\n",
       "    }\n",
       "\n",
       "    .dataframe thead th {\n",
       "        text-align: right;\n",
       "    }\n",
       "</style>\n",
       "<table border=\"1\" class=\"dataframe\">\n",
       "  <thead>\n",
       "    <tr style=\"text-align: right;\">\n",
       "      <th></th>\n",
       "      <th>Id</th>\n",
       "      <th>age</th>\n",
       "      <th>workclass</th>\n",
       "      <th>fnlwgt</th>\n",
       "      <th>education</th>\n",
       "      <th>education.num</th>\n",
       "      <th>marital.status</th>\n",
       "      <th>occupation</th>\n",
       "      <th>relationship</th>\n",
       "      <th>race</th>\n",
       "      <th>sex</th>\n",
       "      <th>capital.gain</th>\n",
       "      <th>capital.loss</th>\n",
       "      <th>hours.per.week</th>\n",
       "      <th>native.country</th>\n",
       "      <th>income</th>\n",
       "    </tr>\n",
       "  </thead>\n",
       "  <tbody>\n",
       "    <tr>\n",
       "      <th>0</th>\n",
       "      <td>16280</td>\n",
       "      <td>34</td>\n",
       "      <td>Private</td>\n",
       "      <td>204991</td>\n",
       "      <td>Some-college</td>\n",
       "      <td>10</td>\n",
       "      <td>Divorced</td>\n",
       "      <td>Exec-managerial</td>\n",
       "      <td>Own-child</td>\n",
       "      <td>White</td>\n",
       "      <td>Male</td>\n",
       "      <td>0</td>\n",
       "      <td>0</td>\n",
       "      <td>44</td>\n",
       "      <td>United-States</td>\n",
       "      <td>&lt;=50K</td>\n",
       "    </tr>\n",
       "    <tr>\n",
       "      <th>1</th>\n",
       "      <td>16281</td>\n",
       "      <td>58</td>\n",
       "      <td>Local-gov</td>\n",
       "      <td>310085</td>\n",
       "      <td>10th</td>\n",
       "      <td>6</td>\n",
       "      <td>Married-civ-spouse</td>\n",
       "      <td>Transport-moving</td>\n",
       "      <td>Husband</td>\n",
       "      <td>White</td>\n",
       "      <td>Male</td>\n",
       "      <td>0</td>\n",
       "      <td>0</td>\n",
       "      <td>40</td>\n",
       "      <td>United-States</td>\n",
       "      <td>&lt;=50K</td>\n",
       "    </tr>\n",
       "    <tr>\n",
       "      <th>2</th>\n",
       "      <td>16282</td>\n",
       "      <td>25</td>\n",
       "      <td>Private</td>\n",
       "      <td>146117</td>\n",
       "      <td>Some-college</td>\n",
       "      <td>10</td>\n",
       "      <td>Never-married</td>\n",
       "      <td>Machine-op-inspct</td>\n",
       "      <td>Not-in-family</td>\n",
       "      <td>White</td>\n",
       "      <td>Male</td>\n",
       "      <td>0</td>\n",
       "      <td>0</td>\n",
       "      <td>42</td>\n",
       "      <td>United-States</td>\n",
       "      <td>&lt;=50K</td>\n",
       "    </tr>\n",
       "    <tr>\n",
       "      <th>3</th>\n",
       "      <td>16283</td>\n",
       "      <td>24</td>\n",
       "      <td>Private</td>\n",
       "      <td>138938</td>\n",
       "      <td>Some-college</td>\n",
       "      <td>10</td>\n",
       "      <td>Divorced</td>\n",
       "      <td>Adm-clerical</td>\n",
       "      <td>Not-in-family</td>\n",
       "      <td>White</td>\n",
       "      <td>Female</td>\n",
       "      <td>0</td>\n",
       "      <td>0</td>\n",
       "      <td>40</td>\n",
       "      <td>United-States</td>\n",
       "      <td>&lt;=50K</td>\n",
       "    </tr>\n",
       "    <tr>\n",
       "      <th>4</th>\n",
       "      <td>16284</td>\n",
       "      <td>57</td>\n",
       "      <td>Self-emp-inc</td>\n",
       "      <td>258883</td>\n",
       "      <td>HS-grad</td>\n",
       "      <td>9</td>\n",
       "      <td>Married-civ-spouse</td>\n",
       "      <td>Transport-moving</td>\n",
       "      <td>Husband</td>\n",
       "      <td>White</td>\n",
       "      <td>Male</td>\n",
       "      <td>5178</td>\n",
       "      <td>0</td>\n",
       "      <td>60</td>\n",
       "      <td>Hungary</td>\n",
       "      <td>&gt;50K</td>\n",
       "    </tr>\n",
       "  </tbody>\n",
       "</table>\n",
       "</div>"
      ],
      "text/plain": [
       "      Id  age     workclass  fnlwgt     education  education.num  \\\n",
       "0  16280   34       Private  204991  Some-college             10   \n",
       "1  16281   58     Local-gov  310085          10th              6   \n",
       "2  16282   25       Private  146117  Some-college             10   \n",
       "3  16283   24       Private  138938  Some-college             10   \n",
       "4  16284   57  Self-emp-inc  258883       HS-grad              9   \n",
       "\n",
       "       marital.status         occupation   relationship   race     sex  \\\n",
       "0            Divorced    Exec-managerial      Own-child  White    Male   \n",
       "1  Married-civ-spouse   Transport-moving        Husband  White    Male   \n",
       "2       Never-married  Machine-op-inspct  Not-in-family  White    Male   \n",
       "3            Divorced       Adm-clerical  Not-in-family  White  Female   \n",
       "4  Married-civ-spouse   Transport-moving        Husband  White    Male   \n",
       "\n",
       "   capital.gain  capital.loss  hours.per.week native.country income  \n",
       "0             0             0              44  United-States  <=50K  \n",
       "1             0             0              40  United-States  <=50K  \n",
       "2             0             0              42  United-States  <=50K  \n",
       "3             0             0              40  United-States  <=50K  \n",
       "4          5178             0              60        Hungary   >50K  "
      ]
     },
     "execution_count": 3,
     "metadata": {},
     "output_type": "execute_result"
    }
   ],
   "source": [
    "train.head()"
   ]
  },
  {
   "cell_type": "code",
   "execution_count": 4,
   "metadata": {
    "ExecuteTime": {
     "end_time": "2021-11-29T01:36:23.636515Z",
     "start_time": "2021-11-29T01:36:23.607784Z"
    }
   },
   "outputs": [
    {
     "data": {
      "text/html": [
       "<div>\n",
       "<style scoped>\n",
       "    .dataframe tbody tr th:only-of-type {\n",
       "        vertical-align: middle;\n",
       "    }\n",
       "\n",
       "    .dataframe tbody tr th {\n",
       "        vertical-align: top;\n",
       "    }\n",
       "\n",
       "    .dataframe thead th {\n",
       "        text-align: right;\n",
       "    }\n",
       "</style>\n",
       "<table border=\"1\" class=\"dataframe\">\n",
       "  <thead>\n",
       "    <tr style=\"text-align: right;\">\n",
       "      <th></th>\n",
       "      <th>Id</th>\n",
       "      <th>age</th>\n",
       "      <th>workclass</th>\n",
       "      <th>fnlwgt</th>\n",
       "      <th>education</th>\n",
       "      <th>education.num</th>\n",
       "      <th>marital.status</th>\n",
       "      <th>occupation</th>\n",
       "      <th>relationship</th>\n",
       "      <th>race</th>\n",
       "      <th>sex</th>\n",
       "      <th>capital.gain</th>\n",
       "      <th>capital.loss</th>\n",
       "      <th>hours.per.week</th>\n",
       "      <th>native.country</th>\n",
       "    </tr>\n",
       "  </thead>\n",
       "  <tbody>\n",
       "    <tr>\n",
       "      <th>0</th>\n",
       "      <td>0</td>\n",
       "      <td>25</td>\n",
       "      <td>Private</td>\n",
       "      <td>120596</td>\n",
       "      <td>Bachelors</td>\n",
       "      <td>13</td>\n",
       "      <td>Never-married</td>\n",
       "      <td>Prof-specialty</td>\n",
       "      <td>Not-in-family</td>\n",
       "      <td>White</td>\n",
       "      <td>Male</td>\n",
       "      <td>0</td>\n",
       "      <td>0</td>\n",
       "      <td>44</td>\n",
       "      <td>United-States</td>\n",
       "    </tr>\n",
       "    <tr>\n",
       "      <th>1</th>\n",
       "      <td>1</td>\n",
       "      <td>64</td>\n",
       "      <td>State-gov</td>\n",
       "      <td>152537</td>\n",
       "      <td>Bachelors</td>\n",
       "      <td>13</td>\n",
       "      <td>Married-civ-spouse</td>\n",
       "      <td>Exec-managerial</td>\n",
       "      <td>Husband</td>\n",
       "      <td>White</td>\n",
       "      <td>Male</td>\n",
       "      <td>0</td>\n",
       "      <td>0</td>\n",
       "      <td>45</td>\n",
       "      <td>United-States</td>\n",
       "    </tr>\n",
       "    <tr>\n",
       "      <th>2</th>\n",
       "      <td>2</td>\n",
       "      <td>31</td>\n",
       "      <td>Private</td>\n",
       "      <td>100135</td>\n",
       "      <td>Masters</td>\n",
       "      <td>14</td>\n",
       "      <td>Divorced</td>\n",
       "      <td>Exec-managerial</td>\n",
       "      <td>Not-in-family</td>\n",
       "      <td>White</td>\n",
       "      <td>Female</td>\n",
       "      <td>0</td>\n",
       "      <td>0</td>\n",
       "      <td>40</td>\n",
       "      <td>United-States</td>\n",
       "    </tr>\n",
       "    <tr>\n",
       "      <th>3</th>\n",
       "      <td>3</td>\n",
       "      <td>45</td>\n",
       "      <td>Private</td>\n",
       "      <td>189123</td>\n",
       "      <td>HS-grad</td>\n",
       "      <td>9</td>\n",
       "      <td>Never-married</td>\n",
       "      <td>Machine-op-inspct</td>\n",
       "      <td>Own-child</td>\n",
       "      <td>White</td>\n",
       "      <td>Male</td>\n",
       "      <td>0</td>\n",
       "      <td>0</td>\n",
       "      <td>40</td>\n",
       "      <td>United-States</td>\n",
       "    </tr>\n",
       "    <tr>\n",
       "      <th>4</th>\n",
       "      <td>4</td>\n",
       "      <td>64</td>\n",
       "      <td>Self-emp-inc</td>\n",
       "      <td>487751</td>\n",
       "      <td>Bachelors</td>\n",
       "      <td>13</td>\n",
       "      <td>Married-civ-spouse</td>\n",
       "      <td>Exec-managerial</td>\n",
       "      <td>Husband</td>\n",
       "      <td>White</td>\n",
       "      <td>Male</td>\n",
       "      <td>0</td>\n",
       "      <td>0</td>\n",
       "      <td>50</td>\n",
       "      <td>United-States</td>\n",
       "    </tr>\n",
       "  </tbody>\n",
       "</table>\n",
       "</div>"
      ],
      "text/plain": [
       "   Id  age     workclass  fnlwgt  education  education.num  \\\n",
       "0   0   25       Private  120596  Bachelors             13   \n",
       "1   1   64     State-gov  152537  Bachelors             13   \n",
       "2   2   31       Private  100135    Masters             14   \n",
       "3   3   45       Private  189123    HS-grad              9   \n",
       "4   4   64  Self-emp-inc  487751  Bachelors             13   \n",
       "\n",
       "       marital.status         occupation   relationship   race     sex  \\\n",
       "0       Never-married     Prof-specialty  Not-in-family  White    Male   \n",
       "1  Married-civ-spouse    Exec-managerial        Husband  White    Male   \n",
       "2            Divorced    Exec-managerial  Not-in-family  White  Female   \n",
       "3       Never-married  Machine-op-inspct      Own-child  White    Male   \n",
       "4  Married-civ-spouse    Exec-managerial        Husband  White    Male   \n",
       "\n",
       "   capital.gain  capital.loss  hours.per.week native.country  \n",
       "0             0             0              44  United-States  \n",
       "1             0             0              45  United-States  \n",
       "2             0             0              40  United-States  \n",
       "3             0             0              40  United-States  \n",
       "4             0             0              50  United-States  "
      ]
     },
     "execution_count": 4,
     "metadata": {},
     "output_type": "execute_result"
    }
   ],
   "source": [
    "test.head()"
   ]
  },
  {
   "cell_type": "markdown",
   "metadata": {},
   "source": [
    "We see from the datasets that the income column is the target of the problem and that's what we want to predict.\n",
    "\n",
    "## 3. Data Description\n",
    "\n",
    "In this section we will see a overview of the datasets, considering these subsections:\n",
    "\n",
    "* Data Dimensions\n",
    "* Data Types\n",
    "* Check missing values\n",
    "* Fillout missing values\n",
    "* Descriptive Statistical\n",
    "\n",
    "### 3.1. Data Dimensions"
   ]
  },
  {
   "cell_type": "code",
   "execution_count": 5,
   "metadata": {
    "ExecuteTime": {
     "end_time": "2021-11-29T01:36:23.651692Z",
     "start_time": "2021-11-29T01:36:23.639521Z"
    }
   },
   "outputs": [
    {
     "name": "stdout",
     "output_type": "stream",
     "text": [
      "Training data shape: (32560, 16)\n",
      "Testing data shape: (16280, 15)\n"
     ]
    }
   ],
   "source": [
    "print(f\"Training data shape: {train.shape}\")\n",
    "print(f\"Testing data shape: {test.shape}\")"
   ]
  },
  {
   "cell_type": "markdown",
   "metadata": {},
   "source": [
    "### 3.2. Data Types\n",
    "\n",
    "We can see that the income label is categorical, thus we have a classification problem."
   ]
  },
  {
   "cell_type": "code",
   "execution_count": 6,
   "metadata": {
    "ExecuteTime": {
     "end_time": "2021-11-29T01:36:23.667525Z",
     "start_time": "2021-11-29T01:36:23.655563Z"
    }
   },
   "outputs": [
    {
     "data": {
      "text/plain": [
       "Id                 int64\n",
       "age                int64\n",
       "workclass         object\n",
       "fnlwgt             int64\n",
       "education         object\n",
       "education.num      int64\n",
       "marital.status    object\n",
       "occupation        object\n",
       "relationship      object\n",
       "race              object\n",
       "sex               object\n",
       "capital.gain       int64\n",
       "capital.loss       int64\n",
       "hours.per.week     int64\n",
       "native.country    object\n",
       "income            object\n",
       "dtype: object"
      ]
     },
     "execution_count": 6,
     "metadata": {},
     "output_type": "execute_result"
    }
   ],
   "source": [
    "train.dtypes"
   ]
  },
  {
   "cell_type": "markdown",
   "metadata": {},
   "source": [
    "### 3.3. Check and fill missing values\n",
    "\n",
    "From the training data, there are missing data in occupation, workclass and native.country. We will fill them out with their most common values."
   ]
  },
  {
   "cell_type": "code",
   "execution_count": 7,
   "metadata": {
    "ExecuteTime": {
     "end_time": "2021-11-29T01:36:23.713474Z",
     "start_time": "2021-11-29T01:36:23.673418Z"
    }
   },
   "outputs": [
    {
     "data": {
      "text/plain": [
       "occupation        1843\n",
       "workclass         1836\n",
       "native.country     583\n",
       "income               0\n",
       "hours.per.week       0\n",
       "capital.loss         0\n",
       "capital.gain         0\n",
       "sex                  0\n",
       "race                 0\n",
       "relationship         0\n",
       "marital.status       0\n",
       "education.num        0\n",
       "education            0\n",
       "fnlwgt               0\n",
       "age                  0\n",
       "Id                   0\n",
       "dtype: int64"
      ]
     },
     "execution_count": 7,
     "metadata": {},
     "output_type": "execute_result"
    }
   ],
   "source": [
    "train.isna().sum().sort_values(ascending = False)"
   ]
  },
  {
   "cell_type": "code",
   "execution_count": 8,
   "metadata": {
    "ExecuteTime": {
     "end_time": "2021-11-29T01:36:23.744226Z",
     "start_time": "2021-11-29T01:36:23.717522Z"
    }
   },
   "outputs": [
    {
     "data": {
      "text/plain": [
       "occupation        966\n",
       "workclass         963\n",
       "native.country    274\n",
       "hours.per.week      0\n",
       "capital.loss        0\n",
       "capital.gain        0\n",
       "sex                 0\n",
       "race                0\n",
       "relationship        0\n",
       "marital.status      0\n",
       "education.num       0\n",
       "education           0\n",
       "fnlwgt              0\n",
       "age                 0\n",
       "Id                  0\n",
       "dtype: int64"
      ]
     },
     "execution_count": 8,
     "metadata": {},
     "output_type": "execute_result"
    }
   ],
   "source": [
    "test.isna().sum().sort_values(ascending = False)"
   ]
  },
  {
   "cell_type": "code",
   "execution_count": 9,
   "metadata": {
    "ExecuteTime": {
     "end_time": "2021-11-29T01:36:23.774218Z",
     "start_time": "2021-11-29T01:36:23.748224Z"
    }
   },
   "outputs": [
    {
     "name": "stdout",
     "output_type": "stream",
     "text": [
      "occupation most common attribute: Prof-specialty\n",
      "workclass most common attribute: Private\n",
      "native.country most common attribute: United-States\n"
     ]
    }
   ],
   "source": [
    "# fill nans\n",
    "occupation_mc = train.loc[:, 'occupation'].mode()[0]\n",
    "workclass_mc = train.loc[:, 'workclass'].mode()[0]\n",
    "native_country_mc = train.loc[:, 'native.country'].mode()[0]\n",
    "\n",
    "print(f'occupation most common attribute: {occupation_mc}')\n",
    "print(f'workclass most common attribute: {workclass_mc}')\n",
    "print(f'native.country most common attribute: {native_country_mc}')\n",
    "\n",
    "train.loc[:, 'occupation'].fillna(occupation_mc, inplace = True)\n",
    "train.loc[:, 'workclass'].fillna(workclass_mc, inplace = True)\n",
    "train.loc[:, 'native.country'].fillna(native_country_mc, inplace = True)\n",
    "\n",
    "test.loc[:, 'occupation'].fillna(occupation_mc, inplace = True)\n",
    "test.loc[:, 'workclass'].fillna(workclass_mc, inplace = True)\n",
    "test.loc[:, 'native.country'].fillna(native_country_mc, inplace = True)"
   ]
  },
  {
   "cell_type": "code",
   "execution_count": 10,
   "metadata": {
    "ExecuteTime": {
     "end_time": "2021-11-29T01:36:23.806358Z",
     "start_time": "2021-11-29T01:36:23.777139Z"
    }
   },
   "outputs": [
    {
     "data": {
      "text/plain": [
       "income            0\n",
       "native.country    0\n",
       "hours.per.week    0\n",
       "capital.loss      0\n",
       "capital.gain      0\n",
       "sex               0\n",
       "race              0\n",
       "relationship      0\n",
       "occupation        0\n",
       "marital.status    0\n",
       "education.num     0\n",
       "education         0\n",
       "fnlwgt            0\n",
       "workclass         0\n",
       "age               0\n",
       "Id                0\n",
       "dtype: int64"
      ]
     },
     "execution_count": 10,
     "metadata": {},
     "output_type": "execute_result"
    }
   ],
   "source": [
    "# checking missing values again - train\n",
    "train.isna().sum().sort_values(ascending = False)"
   ]
  },
  {
   "cell_type": "code",
   "execution_count": 11,
   "metadata": {
    "ExecuteTime": {
     "end_time": "2021-11-29T01:36:23.838121Z",
     "start_time": "2021-11-29T01:36:23.810223Z"
    }
   },
   "outputs": [
    {
     "data": {
      "text/plain": [
       "native.country    0\n",
       "hours.per.week    0\n",
       "capital.loss      0\n",
       "capital.gain      0\n",
       "sex               0\n",
       "race              0\n",
       "relationship      0\n",
       "occupation        0\n",
       "marital.status    0\n",
       "education.num     0\n",
       "education         0\n",
       "fnlwgt            0\n",
       "workclass         0\n",
       "age               0\n",
       "Id                0\n",
       "dtype: int64"
      ]
     },
     "execution_count": 11,
     "metadata": {},
     "output_type": "execute_result"
    }
   ],
   "source": [
    "# checking missing values again - test\n",
    "test.isna().sum().sort_values(ascending = False)"
   ]
  },
  {
   "cell_type": "markdown",
   "metadata": {},
   "source": [
    "### 3.4. Descriptive statistical\n",
    "\n",
    "In this section we will have a statistical overview in the training dataset, considering numerical and categorical variables."
   ]
  },
  {
   "cell_type": "code",
   "execution_count": 12,
   "metadata": {
    "ExecuteTime": {
     "end_time": "2021-11-29T01:36:23.900971Z",
     "start_time": "2021-11-29T01:36:23.840113Z"
    }
   },
   "outputs": [],
   "source": [
    "num_attributes = train.select_dtypes(include = ['int64','float64']).drop(columns = 'Id')\n",
    "cat_attributes = train.select_dtypes(exclude = ['int64','float64'])"
   ]
  },
  {
   "cell_type": "markdown",
   "metadata": {},
   "source": [
    "#### 3.4.1. Numerical Attributes"
   ]
  },
  {
   "cell_type": "code",
   "execution_count": 13,
   "metadata": {
    "ExecuteTime": {
     "end_time": "2021-11-29T01:36:23.947937Z",
     "start_time": "2021-11-29T01:36:23.902970Z"
    }
   },
   "outputs": [
    {
     "data": {
      "text/html": [
       "<div>\n",
       "<style scoped>\n",
       "    .dataframe tbody tr th:only-of-type {\n",
       "        vertical-align: middle;\n",
       "    }\n",
       "\n",
       "    .dataframe tbody tr th {\n",
       "        vertical-align: top;\n",
       "    }\n",
       "\n",
       "    .dataframe thead th {\n",
       "        text-align: right;\n",
       "    }\n",
       "</style>\n",
       "<table border=\"1\" class=\"dataframe\">\n",
       "  <thead>\n",
       "    <tr style=\"text-align: right;\">\n",
       "      <th></th>\n",
       "      <th>age</th>\n",
       "      <th>fnlwgt</th>\n",
       "      <th>education.num</th>\n",
       "      <th>capital.gain</th>\n",
       "      <th>capital.loss</th>\n",
       "      <th>hours.per.week</th>\n",
       "    </tr>\n",
       "  </thead>\n",
       "  <tbody>\n",
       "    <tr>\n",
       "      <th>count</th>\n",
       "      <td>32560.000000</td>\n",
       "      <td>3.256000e+04</td>\n",
       "      <td>32560.000000</td>\n",
       "      <td>32560.000000</td>\n",
       "      <td>32560.000000</td>\n",
       "      <td>32560.000000</td>\n",
       "    </tr>\n",
       "    <tr>\n",
       "      <th>mean</th>\n",
       "      <td>38.581634</td>\n",
       "      <td>1.897818e+05</td>\n",
       "      <td>10.080590</td>\n",
       "      <td>1077.615172</td>\n",
       "      <td>87.306511</td>\n",
       "      <td>40.437469</td>\n",
       "    </tr>\n",
       "    <tr>\n",
       "      <th>std</th>\n",
       "      <td>13.640642</td>\n",
       "      <td>1.055498e+05</td>\n",
       "      <td>2.572709</td>\n",
       "      <td>7385.402999</td>\n",
       "      <td>402.966116</td>\n",
       "      <td>12.347618</td>\n",
       "    </tr>\n",
       "    <tr>\n",
       "      <th>min</th>\n",
       "      <td>17.000000</td>\n",
       "      <td>1.228500e+04</td>\n",
       "      <td>1.000000</td>\n",
       "      <td>0.000000</td>\n",
       "      <td>0.000000</td>\n",
       "      <td>1.000000</td>\n",
       "    </tr>\n",
       "    <tr>\n",
       "      <th>25%</th>\n",
       "      <td>28.000000</td>\n",
       "      <td>1.178315e+05</td>\n",
       "      <td>9.000000</td>\n",
       "      <td>0.000000</td>\n",
       "      <td>0.000000</td>\n",
       "      <td>40.000000</td>\n",
       "    </tr>\n",
       "    <tr>\n",
       "      <th>50%</th>\n",
       "      <td>37.000000</td>\n",
       "      <td>1.783630e+05</td>\n",
       "      <td>10.000000</td>\n",
       "      <td>0.000000</td>\n",
       "      <td>0.000000</td>\n",
       "      <td>40.000000</td>\n",
       "    </tr>\n",
       "    <tr>\n",
       "      <th>75%</th>\n",
       "      <td>48.000000</td>\n",
       "      <td>2.370545e+05</td>\n",
       "      <td>12.000000</td>\n",
       "      <td>0.000000</td>\n",
       "      <td>0.000000</td>\n",
       "      <td>45.000000</td>\n",
       "    </tr>\n",
       "    <tr>\n",
       "      <th>max</th>\n",
       "      <td>90.000000</td>\n",
       "      <td>1.484705e+06</td>\n",
       "      <td>16.000000</td>\n",
       "      <td>99999.000000</td>\n",
       "      <td>4356.000000</td>\n",
       "      <td>99.000000</td>\n",
       "    </tr>\n",
       "  </tbody>\n",
       "</table>\n",
       "</div>"
      ],
      "text/plain": [
       "                age        fnlwgt  education.num  capital.gain  capital.loss  \\\n",
       "count  32560.000000  3.256000e+04   32560.000000  32560.000000  32560.000000   \n",
       "mean      38.581634  1.897818e+05      10.080590   1077.615172     87.306511   \n",
       "std       13.640642  1.055498e+05       2.572709   7385.402999    402.966116   \n",
       "min       17.000000  1.228500e+04       1.000000      0.000000      0.000000   \n",
       "25%       28.000000  1.178315e+05       9.000000      0.000000      0.000000   \n",
       "50%       37.000000  1.783630e+05      10.000000      0.000000      0.000000   \n",
       "75%       48.000000  2.370545e+05      12.000000      0.000000      0.000000   \n",
       "max       90.000000  1.484705e+06      16.000000  99999.000000   4356.000000   \n",
       "\n",
       "       hours.per.week  \n",
       "count    32560.000000  \n",
       "mean        40.437469  \n",
       "std         12.347618  \n",
       "min          1.000000  \n",
       "25%         40.000000  \n",
       "50%         40.000000  \n",
       "75%         45.000000  \n",
       "max         99.000000  "
      ]
     },
     "execution_count": 13,
     "metadata": {},
     "output_type": "execute_result"
    }
   ],
   "source": [
    "num_attributes.describe()"
   ]
  },
  {
   "cell_type": "markdown",
   "metadata": {},
   "source": [
    "Although education.num is a numeric variable, it represents the category relative to the person education level, so it will be treated as a categorical variable.\n",
    "\n",
    "#### 3.4.2. Categorical Attributes\n",
    "\n",
    "Here we can see how many categories each variable has, showing that native.country is the feature with most categories."
   ]
  },
  {
   "cell_type": "code",
   "execution_count": 14,
   "metadata": {
    "ExecuteTime": {
     "end_time": "2021-11-29T01:36:23.962965Z",
     "start_time": "2021-11-29T01:36:23.951559Z"
    }
   },
   "outputs": [],
   "source": [
    "# inserting education.num to categorical variables\n",
    "new_cat_variables = list(cat_attributes.columns) + ['education.num']\n",
    "cat_attributes = train[new_cat_variables].copy()\n",
    "\n",
    "# removing education.num from numerical variables\n",
    "num_attributes = num_attributes.drop(columns = 'education.num')"
   ]
  },
  {
   "cell_type": "code",
   "execution_count": 15,
   "metadata": {
    "ExecuteTime": {
     "end_time": "2021-11-29T01:36:24.009564Z",
     "start_time": "2021-11-29T01:36:23.963807Z"
    }
   },
   "outputs": [
    {
     "data": {
      "text/plain": [
       "workclass          8\n",
       "education         16\n",
       "marital.status     7\n",
       "occupation        14\n",
       "relationship       6\n",
       "race               5\n",
       "sex                2\n",
       "native.country    41\n",
       "income             2\n",
       "education.num     16\n",
       "dtype: int64"
      ]
     },
     "execution_count": 15,
     "metadata": {},
     "output_type": "execute_result"
    }
   ],
   "source": [
    "cat_attributes.apply(lambda x: x.unique().shape[0])"
   ]
  },
  {
   "cell_type": "markdown",
   "metadata": {},
   "source": [
    "## 4. Exploratory Data Analysis\n",
    "\n",
    "Here the data characteristics will be summarized and understood from plots and statistical inferences.\n",
    "\n",
    "### 4.1. Univariate Analysis\n",
    "\n",
    "#### 4.1.1. Response Variable (income)\n",
    "\n",
    "Plotting a barplot to understand how the target variable is distributed. It is possible to see that the training dataset is unbalanced relative to the target labels, as the people who have a income <=50K is the majority when compared to those who have income >50K."
   ]
  },
  {
   "cell_type": "code",
   "execution_count": 16,
   "metadata": {
    "ExecuteTime": {
     "end_time": "2021-11-29T01:36:24.570779Z",
     "start_time": "2021-11-29T01:36:24.011897Z"
    }
   },
   "outputs": [
    {
     "data": {
      "image/png": "[encoded data removed]",
      "text/plain": [
       "<Figure size 360x360 with 1 Axes>"
      ]
     },
     "metadata": {
      "needs_background": "light"
     },
     "output_type": "display_data"
    }
   ],
   "source": [
    "_ = sns.catplot(x = 'income', kind = 'count', data = train)"
   ]
  },
  {
   "cell_type": "markdown",
   "metadata": {},
   "source": [
    "#### 4.1.2. Numerical Variable\n",
    "\n",
    "We can infere some informations from the graphs:\n",
    "\n",
    "* **age**: most part of the people have less than 60 years\n",
    "* **fnlwgt**: almost all the data concentrated in values less than $0.75 * 10^{6}$, despite some outliers\n",
    "* **capital.gain** and **capital.loss**: values are concentrated near 0, despite some outliers\n",
    "* **hours.per.week**: values are concentrated near 40, an it has a lot of outliers"
   ]
  },
  {
   "cell_type": "code",
   "execution_count": 17,
   "metadata": {
    "ExecuteTime": {
     "end_time": "2021-11-29T01:36:26.041063Z",
     "start_time": "2021-11-29T01:36:24.572712Z"
    }
   },
   "outputs": [
    {
     "data": {
      "image/png": "[encoded data removed]",
      "text/plain": [
       "<Figure size 1800x504 with 5 Axes>"
      ]
     },
     "metadata": {
      "needs_background": "light"
     },
     "output_type": "display_data"
    },
    {
     "data": {
      "image/png": "[encoded data removed]",
      "text/plain": [
       "<Figure size 1440x504 with 6 Axes>"
      ]
     },
     "metadata": {
      "needs_background": "light"
     },
     "output_type": "display_data"
    }
   ],
   "source": [
    "fig, ax = plt.subplots(1, 5, figsize = (25,7))\n",
    "for index, column in enumerate(num_attributes.columns):\n",
    "    _ = sns.boxplot(y = num_attributes[column], ax = ax[index], orient = 'v')\n",
    "    \n",
    "_ = num_attributes.hist(bins = 25, figsize = (20, 7))\n",
    "_ = plt.tight_layout()"
   ]
  },
  {
   "cell_type": "markdown",
   "metadata": {
    "tags": []
   },
   "source": [
    "#### 4.1.3. Categorical Variable\n",
    "\n",
    "From the data, we can infere:\n",
    "\n",
    "* **workclass**: the majority of the public studied in private schools\n",
    "* **education**: the most significant categories are HS-grad, Bachelors and Some College\n",
    "* **marital.status**: Married-civ-spouse and Never-married are predominant\n",
    "* **occupation**: this features has a well distributed data\n",
    "* **relationship**: Husband predominates\n",
    "* **race**: most part of the public is white\n",
    "* **sex**: more men were asked than women\n",
    "* **native.country**: clear predominance of american people\n",
    "* **education.num**: class 9 predominates"
   ]
  },
  {
   "cell_type": "code",
   "execution_count": 18,
   "metadata": {
    "ExecuteTime": {
     "end_time": "2021-11-29T01:36:30.073234Z",
     "start_time": "2021-11-29T01:36:26.044054Z"
    }
   },
   "outputs": [
    {
     "data": {
      "image/png": "[encoded data removed]",
      "text/plain": [
       "<Figure size 2160x1080 with 10 Axes>"
      ]
     },
     "metadata": {
      "needs_background": "light"
     },
     "output_type": "display_data"
    }
   ],
   "source": [
    "fig, axes = plt.subplots(5, 2, figsize = (30,15), constrained_layout=True)\n",
    "axes = axes.flatten()\n",
    "\n",
    "for index, column in enumerate(cat_attributes.columns):\n",
    "    _ = sns.countplot(cat_attributes[column], ax = axes[index], order = cat_attributes[column].value_counts().index)\n",
    "    axes[index].tick_params(axis='x', rotation=90)"
   ]
  },
  {
   "cell_type": "markdown",
   "metadata": {},
   "source": [
    "### 4.2. Bivariate Analysis\n",
    "\n",
    "Now, some features will be evaluated relative to their relation to the target variable income.\n",
    "\n",
    "#### 4.2.1. sex - income comparison\n",
    "\n",
    "From the graphs we see that the proportion between men and woman is different when the income is considered. While there are, proportionaly more men than women in the >50K class, this proportion reduces when the class <=50K is considered, evidencing that men are more prone to have a income bigger than 50K."
   ]
  },
  {
   "cell_type": "code",
   "execution_count": 19,
   "metadata": {
    "ExecuteTime": {
     "end_time": "2021-11-29T01:36:30.386344Z",
     "start_time": "2021-11-29T01:36:30.075177Z"
    }
   },
   "outputs": [
    {
     "data": {
      "image/png": "[encoded data removed]",
      "text/plain": [
       "<Figure size 432x288 with 2 Axes>"
      ]
     },
     "metadata": {
      "needs_background": "light"
     },
     "output_type": "display_data"
    }
   ],
   "source": [
    "# separating publics by income\n",
    "less_income = train[train['income'] == '<=50K']\n",
    "less_income = less_income[['sex','income']].groupby(\"sex\").count().reset_index()\n",
    "\n",
    "more_income = train[train['income'] == '>50K']\n",
    "more_income = more_income[['sex','income']].groupby(\"sex\").count().reset_index()\n",
    "\n",
    "# plot 1 - income <=50K\n",
    "plt.subplot(1,2,1)\n",
    "_ = sns.barplot(x = 'sex', y = 'income', data = less_income)\n",
    "_ = plt.title(\"Income <=50K\")\n",
    "\n",
    "#plot2 - gender x cardio (bar plot)\n",
    "plt.subplot(1,2,2)\n",
    "_ = sns.barplot(x = 'sex', y = 'income', data = more_income)\n",
    "_ = plt.title(\"Income >50K\")\n",
    "\n",
    "_ = plt.tight_layout()"
   ]
  },
  {
   "cell_type": "markdown",
   "metadata": {},
   "source": [
    "#### 4.2.2. age - income comparison\n",
    "\n",
    "Although the correlation between age and income is quite low, it is possible to see a slight trend that older people have higher incomes."
   ]
  },
  {
   "cell_type": "code",
   "execution_count": 20,
   "metadata": {
    "ExecuteTime": {
     "end_time": "2021-11-29T01:36:30.758740Z",
     "start_time": "2021-11-29T01:36:30.388353Z"
    }
   },
   "outputs": [
    {
     "data": {
      "image/png": "[encoded data removed]",
      "text/plain": [
       "<Figure size 432x288 with 3 Axes>"
      ]
     },
     "metadata": {
      "needs_background": "light"
     },
     "output_type": "display_data"
    }
   ],
   "source": [
    "# plot 1 - boxplot\n",
    "plt.subplot(1,2,1)\n",
    "_ = sns.boxplot(x = 'income', y = 'age', data = train)\n",
    "_ = plt.title(\"Age x Income\")\n",
    "\n",
    "# plot 2 - correlation\n",
    "plt.subplot(1,2,2)\n",
    "df_corr = train[['age', 'income']]\n",
    "df_corr['income'] = df_corr['income'].map({'<=50K' : 0, '>50K' : 1})\n",
    "_ = sns.heatmap(df_corr[['age', 'income']].corr(method = 'pearson'), annot = True)"
   ]
  },
  {
   "cell_type": "markdown",
   "metadata": {},
   "source": [
    "#### 4.2.3. education - income comparison\n",
    "\n",
    "From the data, we see that the majority of people with income less than 50K has only completed High School or some college, while people with bachelor dominates in the higher income public."
   ]
  },
  {
   "cell_type": "code",
   "execution_count": 21,
   "metadata": {
    "ExecuteTime": {
     "end_time": "2021-11-29T01:36:31.367996Z",
     "start_time": "2021-11-29T01:36:30.761713Z"
    }
   },
   "outputs": [
    {
     "data": {
      "image/png": "[encoded data removed]",
      "text/plain": [
       "<Figure size 1800x360 with 2 Axes>"
      ]
     },
     "metadata": {
      "needs_background": "light"
     },
     "output_type": "display_data"
    }
   ],
   "source": [
    "# separating publics by income\n",
    "less_income = train[train['income'] == '<=50K']\n",
    "less_income = less_income[['education','income']].groupby(\"education\").count().sort_values('income').reset_index()\n",
    "\n",
    "more_income = train[train['income'] == '>50K']\n",
    "more_income = more_income[['education','income']].groupby(\"education\").count().sort_values('income').reset_index()\n",
    "\n",
    "fig, axes = plt.subplots(1,2,figsize = (25, 5))\n",
    "\n",
    "# plot 1 - income <=50K\n",
    "_ = sns.barplot(x = 'education', y = 'income', data = less_income, ax = axes[0])\n",
    "_ = axes[0].set_title(\"Income <=50K\")\n",
    "_ = axes[0].tick_params(axis='x', rotation=90)\n",
    "\n",
    "#plot2 - gender x cardio (bar plot)\n",
    "_ = sns.barplot(x = 'education', y = 'income', data = more_income, ax = axes[1])\n",
    "_ = axes[1].set_title(\"Income >50K\")\n",
    "_ = axes[1].tick_params(axis='x', rotation=90)\n",
    "\n",
    "_ = plt.tight_layout()"
   ]
  },
  {
   "cell_type": "markdown",
   "metadata": {},
   "source": [
    "### 4.3. Multivariate Analysis\n",
    "\n",
    "From the multivariate analysis, we look for features that are not correlated to others features and features that are somehow correlated to the target, in order to predict the result more accurately basing on those correlations. From the heatmap, we see that none of the features have a high correlation to each other and age, education.num, capital.gain and hours.per.week have decent correlation to the target variable income, indicating that they are good variables to the model."
   ]
  },
  {
   "cell_type": "code",
   "execution_count": 22,
   "metadata": {
    "ExecuteTime": {
     "end_time": "2021-11-29T01:36:32.339045Z",
     "start_time": "2021-11-29T01:36:31.374096Z"
    }
   },
   "outputs": [
    {
     "data": {
      "image/png": "[encoded data removed]",
      "text/plain": [
       "<Figure size 1440x576 with 2 Axes>"
      ]
     },
     "metadata": {
      "needs_background": "light"
     },
     "output_type": "display_data"
    }
   ],
   "source": [
    "#exclude non-numerical variables\n",
    "df_corr = train.copy()\n",
    "df_corr['income'] = df_corr['income'].map({'<=50K' : 0, '>50K' : 1})\n",
    "aux1 = df_corr.select_dtypes(exclude = ['object'])\n",
    "\n",
    "#plot correlation plot to our numerical variables\n",
    "fig, ax = plt.subplots(figsize = (20, 8))\n",
    "_ = sns.heatmap(aux1.corr(method = 'pearson'), annot = True, ax = ax)"
   ]
  },
  {
   "cell_type": "markdown",
   "metadata": {},
   "source": [
    "## 5. Feature Engineering\n",
    "\n",
    "We will create a variable called \"capital\", which is calculated by capital.gain - capital.loss:"
   ]
  },
  {
   "cell_type": "code",
   "execution_count": 23,
   "metadata": {
    "ExecuteTime": {
     "end_time": "2021-11-29T01:36:32.384918Z",
     "start_time": "2021-11-29T01:36:32.342960Z"
    }
   },
   "outputs": [],
   "source": [
    "train['capital'] = train['capital.gain'] - train['capital.loss']\n",
    "test['capital'] = test['capital.gain'] - test['capital.loss']"
   ]
  },
  {
   "cell_type": "code",
   "execution_count": 24,
   "metadata": {
    "ExecuteTime": {
     "end_time": "2021-11-29T01:36:32.416891Z",
     "start_time": "2021-11-29T01:36:32.386920Z"
    }
   },
   "outputs": [
    {
     "data": {
      "text/html": [
       "<div>\n",
       "<style scoped>\n",
       "    .dataframe tbody tr th:only-of-type {\n",
       "        vertical-align: middle;\n",
       "    }\n",
       "\n",
       "    .dataframe tbody tr th {\n",
       "        vertical-align: top;\n",
       "    }\n",
       "\n",
       "    .dataframe thead th {\n",
       "        text-align: right;\n",
       "    }\n",
       "</style>\n",
       "<table border=\"1\" class=\"dataframe\">\n",
       "  <thead>\n",
       "    <tr style=\"text-align: right;\">\n",
       "      <th></th>\n",
       "      <th>capital</th>\n",
       "    </tr>\n",
       "  </thead>\n",
       "  <tbody>\n",
       "    <tr>\n",
       "      <th>count</th>\n",
       "      <td>32560.000000</td>\n",
       "    </tr>\n",
       "    <tr>\n",
       "      <th>mean</th>\n",
       "      <td>990.308661</td>\n",
       "    </tr>\n",
       "    <tr>\n",
       "      <th>std</th>\n",
       "      <td>7409.097824</td>\n",
       "    </tr>\n",
       "    <tr>\n",
       "      <th>min</th>\n",
       "      <td>-4356.000000</td>\n",
       "    </tr>\n",
       "    <tr>\n",
       "      <th>25%</th>\n",
       "      <td>0.000000</td>\n",
       "    </tr>\n",
       "    <tr>\n",
       "      <th>50%</th>\n",
       "      <td>0.000000</td>\n",
       "    </tr>\n",
       "    <tr>\n",
       "      <th>75%</th>\n",
       "      <td>0.000000</td>\n",
       "    </tr>\n",
       "    <tr>\n",
       "      <th>max</th>\n",
       "      <td>99999.000000</td>\n",
       "    </tr>\n",
       "  </tbody>\n",
       "</table>\n",
       "</div>"
      ],
      "text/plain": [
       "            capital\n",
       "count  32560.000000\n",
       "mean     990.308661\n",
       "std     7409.097824\n",
       "min    -4356.000000\n",
       "25%        0.000000\n",
       "50%        0.000000\n",
       "75%        0.000000\n",
       "max    99999.000000"
      ]
     },
     "execution_count": 24,
     "metadata": {},
     "output_type": "execute_result"
    }
   ],
   "source": [
    "train[['capital']].describe()"
   ]
  },
  {
   "cell_type": "markdown",
   "metadata": {},
   "source": [
    "## 6. Feature Selection\n",
    "\n",
    "Since the majority of the public is from United States, we will drop native.country, that will not bring a lot of information. And since we created a new variable \"capital\", we will drop \"capital.gain\" and \"capital.loss\"."
   ]
  },
  {
   "cell_type": "code",
   "execution_count": 25,
   "metadata": {
    "ExecuteTime": {
     "end_time": "2021-11-29T01:36:32.433193Z",
     "start_time": "2021-11-29T01:36:32.419106Z"
    }
   },
   "outputs": [],
   "source": [
    "train = train.drop(columns = ['native.country', 'capital.gain', 'capital.loss'])\n",
    "test = test.drop(columns = ['native.country', 'capital.gain', 'capital.loss'])"
   ]
  },
  {
   "cell_type": "markdown",
   "metadata": {},
   "source": [
    "## 7. Data Preparation"
   ]
  },
  {
   "cell_type": "code",
   "execution_count": 26,
   "metadata": {
    "ExecuteTime": {
     "end_time": "2021-11-29T01:36:32.464077Z",
     "start_time": "2021-11-29T01:36:32.435023Z"
    }
   },
   "outputs": [],
   "source": [
    "X = train.drop(columns = ['income', 'Id'])\n",
    "y = train['income'].copy()\n",
    "\n",
    "#split data into training and test dataset\n",
    "X_train, X_val, y_train, y_val = train_test_split(X,y, test_size = 0.20, random_state = 42)\n",
    "\n",
    "databases = [X, X_train, X_val, test]"
   ]
  },
  {
   "cell_type": "markdown",
   "metadata": {},
   "source": [
    "### 7.1. Rescaling\n",
    "\n",
    "Due to the outliers, we will use RobustScaler to rescale the numeric data, since it is not sensitive to outliers."
   ]
  },
  {
   "cell_type": "code",
   "execution_count": 27,
   "metadata": {
    "ExecuteTime": {
     "end_time": "2021-11-29T01:36:32.556777Z",
     "start_time": "2021-11-29T01:36:32.466037Z"
    }
   },
   "outputs": [
    {
     "name": "stdout",
     "output_type": "stream",
     "text": [
      "Index(['age', 'fnlwgt', 'hours.per.week', 'capital'], dtype='object')\n"
     ]
    }
   ],
   "source": [
    "rs = RobustScaler()\n",
    "columns = X_train.drop(columns = ['education.num']).select_dtypes(include = ['int64','float64']).columns\n",
    "print(columns)\n",
    "X_train[columns] = rs.fit_transform(X_train[columns].values)\n",
    "X[columns] = rs.transform(X[columns].values)\n",
    "X_val[columns] = rs.transform(X_val[columns].values)\n",
    "test[columns] = rs.transform(test[columns].values)"
   ]
  },
  {
   "cell_type": "code",
   "execution_count": 28,
   "metadata": {
    "ExecuteTime": {
     "end_time": "2021-11-29T01:36:32.588746Z",
     "start_time": "2021-11-29T01:36:32.559795Z"
    }
   },
   "outputs": [
    {
     "data": {
      "text/html": [
       "<div>\n",
       "<style scoped>\n",
       "    .dataframe tbody tr th:only-of-type {\n",
       "        vertical-align: middle;\n",
       "    }\n",
       "\n",
       "    .dataframe tbody tr th {\n",
       "        vertical-align: top;\n",
       "    }\n",
       "\n",
       "    .dataframe thead th {\n",
       "        text-align: right;\n",
       "    }\n",
       "</style>\n",
       "<table border=\"1\" class=\"dataframe\">\n",
       "  <thead>\n",
       "    <tr style=\"text-align: right;\">\n",
       "      <th></th>\n",
       "      <th>age</th>\n",
       "      <th>workclass</th>\n",
       "      <th>fnlwgt</th>\n",
       "      <th>education</th>\n",
       "      <th>education.num</th>\n",
       "      <th>marital.status</th>\n",
       "      <th>occupation</th>\n",
       "      <th>relationship</th>\n",
       "      <th>race</th>\n",
       "      <th>sex</th>\n",
       "      <th>hours.per.week</th>\n",
       "      <th>capital</th>\n",
       "    </tr>\n",
       "  </thead>\n",
       "  <tbody>\n",
       "    <tr>\n",
       "      <th>24639</th>\n",
       "      <td>0.60</td>\n",
       "      <td>Private</td>\n",
       "      <td>-0.085284</td>\n",
       "      <td>5th-6th</td>\n",
       "      <td>3</td>\n",
       "      <td>Married-civ-spouse</td>\n",
       "      <td>Craft-repair</td>\n",
       "      <td>Husband</td>\n",
       "      <td>White</td>\n",
       "      <td>Male</td>\n",
       "      <td>0.0</td>\n",
       "      <td>0.0</td>\n",
       "    </tr>\n",
       "    <tr>\n",
       "      <th>5514</th>\n",
       "      <td>-0.25</td>\n",
       "      <td>Private</td>\n",
       "      <td>0.020078</td>\n",
       "      <td>Assoc-voc</td>\n",
       "      <td>11</td>\n",
       "      <td>Divorced</td>\n",
       "      <td>Sales</td>\n",
       "      <td>Not-in-family</td>\n",
       "      <td>White</td>\n",
       "      <td>Male</td>\n",
       "      <td>2.0</td>\n",
       "      <td>0.0</td>\n",
       "    </tr>\n",
       "    <tr>\n",
       "      <th>19777</th>\n",
       "      <td>0.15</td>\n",
       "      <td>Private</td>\n",
       "      <td>-0.567096</td>\n",
       "      <td>HS-grad</td>\n",
       "      <td>9</td>\n",
       "      <td>Separated</td>\n",
       "      <td>Machine-op-inspct</td>\n",
       "      <td>Not-in-family</td>\n",
       "      <td>White</td>\n",
       "      <td>Female</td>\n",
       "      <td>0.0</td>\n",
       "      <td>0.0</td>\n",
       "    </tr>\n",
       "    <tr>\n",
       "      <th>10781</th>\n",
       "      <td>-0.40</td>\n",
       "      <td>Federal-gov</td>\n",
       "      <td>1.349343</td>\n",
       "      <td>Assoc-voc</td>\n",
       "      <td>11</td>\n",
       "      <td>Married-civ-spouse</td>\n",
       "      <td>Craft-repair</td>\n",
       "      <td>Husband</td>\n",
       "      <td>White</td>\n",
       "      <td>Male</td>\n",
       "      <td>0.0</td>\n",
       "      <td>0.0</td>\n",
       "    </tr>\n",
       "    <tr>\n",
       "      <th>32239</th>\n",
       "      <td>-0.85</td>\n",
       "      <td>Private</td>\n",
       "      <td>-0.297748</td>\n",
       "      <td>Some-college</td>\n",
       "      <td>10</td>\n",
       "      <td>Never-married</td>\n",
       "      <td>Farming-fishing</td>\n",
       "      <td>Own-child</td>\n",
       "      <td>White</td>\n",
       "      <td>Male</td>\n",
       "      <td>0.0</td>\n",
       "      <td>0.0</td>\n",
       "    </tr>\n",
       "  </tbody>\n",
       "</table>\n",
       "</div>"
      ],
      "text/plain": [
       "        age    workclass    fnlwgt     education  education.num  \\\n",
       "24639  0.60      Private -0.085284       5th-6th              3   \n",
       "5514  -0.25      Private  0.020078     Assoc-voc             11   \n",
       "19777  0.15      Private -0.567096       HS-grad              9   \n",
       "10781 -0.40  Federal-gov  1.349343     Assoc-voc             11   \n",
       "32239 -0.85      Private -0.297748  Some-college             10   \n",
       "\n",
       "           marital.status         occupation   relationship   race     sex  \\\n",
       "24639  Married-civ-spouse       Craft-repair        Husband  White    Male   \n",
       "5514             Divorced              Sales  Not-in-family  White    Male   \n",
       "19777           Separated  Machine-op-inspct  Not-in-family  White  Female   \n",
       "10781  Married-civ-spouse       Craft-repair        Husband  White    Male   \n",
       "32239       Never-married    Farming-fishing      Own-child  White    Male   \n",
       "\n",
       "       hours.per.week  capital  \n",
       "24639             0.0      0.0  \n",
       "5514              2.0      0.0  \n",
       "19777             0.0      0.0  \n",
       "10781             0.0      0.0  \n",
       "32239             0.0      0.0  "
      ]
     },
     "execution_count": 28,
     "metadata": {},
     "output_type": "execute_result"
    }
   ],
   "source": [
    "X_train.head()"
   ]
  },
  {
   "cell_type": "markdown",
   "metadata": {},
   "source": [
    "### 7.2. Encoding\n",
    "\n",
    "We will apply One-Hot Encoding to the following features:\n",
    "\n",
    "* **OneHotEncoder**: sex, workclass, education, marital.status, occupation, relationship, race\n",
    "\n",
    "education.num is already encoded."
   ]
  },
  {
   "cell_type": "code",
   "execution_count": 29,
   "metadata": {
    "ExecuteTime": {
     "end_time": "2021-11-29T01:36:32.635567Z",
     "start_time": "2021-11-29T01:36:32.592681Z"
    }
   },
   "outputs": [
    {
     "data": {
      "text/plain": [
       "workclass          8\n",
       "education         16\n",
       "marital.status     7\n",
       "occupation        14\n",
       "relationship       6\n",
       "race               5\n",
       "sex                2\n",
       "dtype: int64"
      ]
     },
     "execution_count": 29,
     "metadata": {},
     "output_type": "execute_result"
    }
   ],
   "source": [
    "X_train.select_dtypes(include = 'object').apply(lambda x: x.unique().shape[0])"
   ]
  },
  {
   "cell_type": "code",
   "execution_count": 30,
   "metadata": {
    "ExecuteTime": {
     "end_time": "2021-11-29T01:36:32.745238Z",
     "start_time": "2021-11-29T01:36:32.637570Z"
    }
   },
   "outputs": [],
   "source": [
    "onehot_columns = ['sex', 'workclass', 'education', 'marital.status', 'occupation', 'relationship', 'race']\n",
    "    \n",
    "# OneHotEncoder\n",
    "X = pd.get_dummies(X, prefix=onehot_columns, columns = onehot_columns, drop_first=True)\n",
    "X_train = pd.get_dummies(X_train, prefix=onehot_columns, columns = onehot_columns, drop_first=True)\n",
    "X_val = pd.get_dummies(X_val, prefix=onehot_columns, columns = onehot_columns, drop_first=True)\n",
    "test = pd.get_dummies(test, prefix=onehot_columns, columns = onehot_columns, drop_first=True)"
   ]
  },
  {
   "cell_type": "code",
   "execution_count": 31,
   "metadata": {
    "ExecuteTime": {
     "end_time": "2021-11-29T01:36:32.776146Z",
     "start_time": "2021-11-29T01:36:32.746182Z"
    }
   },
   "outputs": [
    {
     "data": {
      "text/html": [
       "<div>\n",
       "<style scoped>\n",
       "    .dataframe tbody tr th:only-of-type {\n",
       "        vertical-align: middle;\n",
       "    }\n",
       "\n",
       "    .dataframe tbody tr th {\n",
       "        vertical-align: top;\n",
       "    }\n",
       "\n",
       "    .dataframe thead th {\n",
       "        text-align: right;\n",
       "    }\n",
       "</style>\n",
       "<table border=\"1\" class=\"dataframe\">\n",
       "  <thead>\n",
       "    <tr style=\"text-align: right;\">\n",
       "      <th></th>\n",
       "      <th>age</th>\n",
       "      <th>fnlwgt</th>\n",
       "      <th>education.num</th>\n",
       "      <th>hours.per.week</th>\n",
       "      <th>capital</th>\n",
       "      <th>sex_Male</th>\n",
       "      <th>workclass_Local-gov</th>\n",
       "      <th>workclass_Never-worked</th>\n",
       "      <th>workclass_Private</th>\n",
       "      <th>workclass_Self-emp-inc</th>\n",
       "      <th>...</th>\n",
       "      <th>occupation_Transport-moving</th>\n",
       "      <th>relationship_Not-in-family</th>\n",
       "      <th>relationship_Other-relative</th>\n",
       "      <th>relationship_Own-child</th>\n",
       "      <th>relationship_Unmarried</th>\n",
       "      <th>relationship_Wife</th>\n",
       "      <th>race_Asian-Pac-Islander</th>\n",
       "      <th>race_Black</th>\n",
       "      <th>race_Other</th>\n",
       "      <th>race_White</th>\n",
       "    </tr>\n",
       "  </thead>\n",
       "  <tbody>\n",
       "    <tr>\n",
       "      <th>24639</th>\n",
       "      <td>0.60</td>\n",
       "      <td>-0.085284</td>\n",
       "      <td>3</td>\n",
       "      <td>0.0</td>\n",
       "      <td>0.0</td>\n",
       "      <td>1</td>\n",
       "      <td>0</td>\n",
       "      <td>0</td>\n",
       "      <td>1</td>\n",
       "      <td>0</td>\n",
       "      <td>...</td>\n",
       "      <td>0</td>\n",
       "      <td>0</td>\n",
       "      <td>0</td>\n",
       "      <td>0</td>\n",
       "      <td>0</td>\n",
       "      <td>0</td>\n",
       "      <td>0</td>\n",
       "      <td>0</td>\n",
       "      <td>0</td>\n",
       "      <td>1</td>\n",
       "    </tr>\n",
       "    <tr>\n",
       "      <th>5514</th>\n",
       "      <td>-0.25</td>\n",
       "      <td>0.020078</td>\n",
       "      <td>11</td>\n",
       "      <td>2.0</td>\n",
       "      <td>0.0</td>\n",
       "      <td>1</td>\n",
       "      <td>0</td>\n",
       "      <td>0</td>\n",
       "      <td>1</td>\n",
       "      <td>0</td>\n",
       "      <td>...</td>\n",
       "      <td>0</td>\n",
       "      <td>1</td>\n",
       "      <td>0</td>\n",
       "      <td>0</td>\n",
       "      <td>0</td>\n",
       "      <td>0</td>\n",
       "      <td>0</td>\n",
       "      <td>0</td>\n",
       "      <td>0</td>\n",
       "      <td>1</td>\n",
       "    </tr>\n",
       "    <tr>\n",
       "      <th>19777</th>\n",
       "      <td>0.15</td>\n",
       "      <td>-0.567096</td>\n",
       "      <td>9</td>\n",
       "      <td>0.0</td>\n",
       "      <td>0.0</td>\n",
       "      <td>0</td>\n",
       "      <td>0</td>\n",
       "      <td>0</td>\n",
       "      <td>1</td>\n",
       "      <td>0</td>\n",
       "      <td>...</td>\n",
       "      <td>0</td>\n",
       "      <td>1</td>\n",
       "      <td>0</td>\n",
       "      <td>0</td>\n",
       "      <td>0</td>\n",
       "      <td>0</td>\n",
       "      <td>0</td>\n",
       "      <td>0</td>\n",
       "      <td>0</td>\n",
       "      <td>1</td>\n",
       "    </tr>\n",
       "    <tr>\n",
       "      <th>10781</th>\n",
       "      <td>-0.40</td>\n",
       "      <td>1.349343</td>\n",
       "      <td>11</td>\n",
       "      <td>0.0</td>\n",
       "      <td>0.0</td>\n",
       "      <td>1</td>\n",
       "      <td>0</td>\n",
       "      <td>0</td>\n",
       "      <td>0</td>\n",
       "      <td>0</td>\n",
       "      <td>...</td>\n",
       "      <td>0</td>\n",
       "      <td>0</td>\n",
       "      <td>0</td>\n",
       "      <td>0</td>\n",
       "      <td>0</td>\n",
       "      <td>0</td>\n",
       "      <td>0</td>\n",
       "      <td>0</td>\n",
       "      <td>0</td>\n",
       "      <td>1</td>\n",
       "    </tr>\n",
       "    <tr>\n",
       "      <th>32239</th>\n",
       "      <td>-0.85</td>\n",
       "      <td>-0.297748</td>\n",
       "      <td>10</td>\n",
       "      <td>0.0</td>\n",
       "      <td>0.0</td>\n",
       "      <td>1</td>\n",
       "      <td>0</td>\n",
       "      <td>0</td>\n",
       "      <td>1</td>\n",
       "      <td>0</td>\n",
       "      <td>...</td>\n",
       "      <td>0</td>\n",
       "      <td>0</td>\n",
       "      <td>0</td>\n",
       "      <td>1</td>\n",
       "      <td>0</td>\n",
       "      <td>0</td>\n",
       "      <td>0</td>\n",
       "      <td>0</td>\n",
       "      <td>0</td>\n",
       "      <td>1</td>\n",
       "    </tr>\n",
       "  </tbody>\n",
       "</table>\n",
       "<p>5 rows × 56 columns</p>\n",
       "</div>"
      ],
      "text/plain": [
       "        age    fnlwgt  education.num  hours.per.week  capital  sex_Male  \\\n",
       "24639  0.60 -0.085284              3             0.0      0.0         1   \n",
       "5514  -0.25  0.020078             11             2.0      0.0         1   \n",
       "19777  0.15 -0.567096              9             0.0      0.0         0   \n",
       "10781 -0.40  1.349343             11             0.0      0.0         1   \n",
       "32239 -0.85 -0.297748             10             0.0      0.0         1   \n",
       "\n",
       "       workclass_Local-gov  workclass_Never-worked  workclass_Private  \\\n",
       "24639                    0                       0                  1   \n",
       "5514                     0                       0                  1   \n",
       "19777                    0                       0                  1   \n",
       "10781                    0                       0                  0   \n",
       "32239                    0                       0                  1   \n",
       "\n",
       "       workclass_Self-emp-inc  ...  occupation_Transport-moving  \\\n",
       "24639                       0  ...                            0   \n",
       "5514                        0  ...                            0   \n",
       "19777                       0  ...                            0   \n",
       "10781                       0  ...                            0   \n",
       "32239                       0  ...                            0   \n",
       "\n",
       "       relationship_Not-in-family  relationship_Other-relative  \\\n",
       "24639                           0                            0   \n",
       "5514                            1                            0   \n",
       "19777                           1                            0   \n",
       "10781                           0                            0   \n",
       "32239                           0                            0   \n",
       "\n",
       "       relationship_Own-child  relationship_Unmarried  relationship_Wife  \\\n",
       "24639                       0                       0                  0   \n",
       "5514                        0                       0                  0   \n",
       "19777                       0                       0                  0   \n",
       "10781                       0                       0                  0   \n",
       "32239                       1                       0                  0   \n",
       "\n",
       "       race_Asian-Pac-Islander  race_Black  race_Other  race_White  \n",
       "24639                        0           0           0           1  \n",
       "5514                         0           0           0           1  \n",
       "19777                        0           0           0           1  \n",
       "10781                        0           0           0           1  \n",
       "32239                        0           0           0           1  \n",
       "\n",
       "[5 rows x 56 columns]"
      ]
     },
     "execution_count": 31,
     "metadata": {},
     "output_type": "execute_result"
    }
   ],
   "source": [
    "X_train.head()"
   ]
  },
  {
   "cell_type": "markdown",
   "metadata": {},
   "source": [
    "## 8. Machine Learning Modelling and Hyperparameter Tunning\n",
    "\n",
    "In this section, different machine learning algorithms will be evaluated to classify the adult base. They will be:\n",
    "\n",
    "* KNN\n",
    "* Support Vector Classifier (SVC)\n",
    "* Random Forest Classifier\n",
    "* Extreme Gradient Boosting Classifier \n",
    "* Neural Network Classifier"
   ]
  },
  {
   "cell_type": "markdown",
   "metadata": {},
   "source": [
    "### 8.1. KNN\n",
    "\n",
    "From RandomizedSearchCV, we see that the best kNN estimator is the one with 14 neighbors, which has a cross-validation score of 0.861."
   ]
  },
  {
   "cell_type": "code",
   "execution_count": null,
   "metadata": {
    "ExecuteTime": {
     "start_time": "2021-11-29T01:35:38.379Z"
    }
   },
   "outputs": [
    {
     "name": "stdout",
     "output_type": "stream",
     "text": [
      "Fitting 5 folds for each of 26 candidates, totalling 130 fits\n"
     ]
    }
   ],
   "source": [
    "# model definition\n",
    "knn = KNeighborsClassifier()\n",
    "\n",
    "# RandomizedSearchCV\n",
    "parameters = {'n_neighbors' : np.arange(5, 31)}\n",
    "knn_grid_cv = RandomizedSearchCV(knn, parameters, verbose = True, scoring='accuracy', cv = 5, n_iter = 50, n_jobs = -1, random_state = 42)\n",
    "%timeit -n 1 -r 1 knn_grid_cv.fit(X_train, y_train)\n",
    "\n",
    "print(f'Best estimator: {knn_grid_cv.best_estimator_}')\n",
    "print(f'Best score: {knn_grid_cv.best_score_}')\n",
    "\n",
    "# predict\n",
    "y_predict_knn = knn_grid_cv.predict(X_val)"
   ]
  },
  {
   "cell_type": "markdown",
   "metadata": {},
   "source": [
    "### 8.2. Support Vector Classifier (SVC)\n",
    "\n",
    "From RandomizedSearchCV, we see that the best SVC estimator is the one with the following parameters:\n",
    "\n",
    "* C = 8.985102040816326\n",
    "* gamma = 'auto'\n",
    "\n",
    "This set of parameters gives a cross-validation score of 0.869."
   ]
  },
  {
   "cell_type": "code",
   "execution_count": null,
   "metadata": {
    "ExecuteTime": {
     "start_time": "2021-11-29T01:35:38.382Z"
    }
   },
   "outputs": [],
   "source": [
    "# model definition\n",
    "svc = SVC(random_state=42, probability=True)\n",
    "\n",
    "# RandomizedSearchCV\n",
    "parameters = {'C': np.linspace(1e-2, 20),\n",
    "              'gamma': ['scale', 'auto']}\n",
    "svc_grid_cv = RandomizedSearchCV(svc, parameters, verbose = True, scoring='accuracy', cv = 5, n_iter = 30, n_jobs = -1, random_state = 42)\n",
    "%timeit -n 1 -r 1 svc_grid_cv.fit(X_train, y_train)\n",
    "\n",
    "print(f'Best estimator: {svc_grid_cv.best_estimator_}')\n",
    "print(f'Best score: {svc_grid_cv.best_score_}')\n",
    "\n",
    "# predict\n",
    "y_predict_svc = svc_grid_cv.predict(X_val)"
   ]
  },
  {
   "cell_type": "markdown",
   "metadata": {},
   "source": [
    "### 8.3. Random Forest Classifier\n",
    "\n",
    "From RandomizedSearchCV, we see that the best Random Forest Classifier estimator is the one with the following parameters:\n",
    "\n",
    "* criterion = 'entropy'\n",
    "* max_depth = 20\n",
    "* n_estimators = 380\n",
    "\n",
    "This set of parameters gives a cross-validation score of 0.861."
   ]
  },
  {
   "cell_type": "code",
   "execution_count": null,
   "metadata": {
    "ExecuteTime": {
     "start_time": "2021-11-29T01:35:38.385Z"
    }
   },
   "outputs": [],
   "source": [
    "# model definition\n",
    "rfc = RandomForestClassifier(random_state=42)\n",
    "\n",
    "# RandomizedSearchCV\n",
    "parameters = {'n_estimators': np.arange(100, 500),\n",
    "               'criterion': ['gini', 'entropy'],\n",
    "               'max_depth': np.arange(1, 50),}\n",
    "rfc_grid_cv = RandomizedSearchCV(rfc, parameters, verbose = True, scoring='accuracy', cv = 5, n_iter = 30, n_jobs = -1, random_state = 42)\n",
    "%timeit -n 1 -r 1 rfc_grid_cv.fit(X_train, y_train)\n",
    "\n",
    "print(f'Best estimator: {rfc_grid_cv.best_estimator_}')\n",
    "print(f'Best score: {rfc_grid_cv.best_score_}')\n",
    "\n",
    "# predict\n",
    "y_predict_rfc = rfc_grid_cv.predict(X_val)"
   ]
  },
  {
   "cell_type": "markdown",
   "metadata": {},
   "source": [
    "### 8.4. Extreme Gradient Boosting Classifier\n",
    "\n",
    "From RandomizedSearchCV, we see that the best Extreme Gradient Boosting Classifier estimator is the one with the following parameters:\n",
    "\n",
    "* n_estimators = 179\n",
    "* learning_rate = 0.42914285714285716\n",
    "* max_depth = 2\n",
    "* reg_alpha = 0.013237491476160993\n",
    "* reg_lambda = 3.169978726120134e-05\n",
    "\n",
    "This set of parameters gives a cross-validation score of 0.871."
   ]
  },
  {
   "cell_type": "code",
   "execution_count": null,
   "metadata": {
    "ExecuteTime": {
     "start_time": "2021-11-29T01:35:38.388Z"
    }
   },
   "outputs": [],
   "source": [
    "# model definition\n",
    "xgb = XGBClassifier(random_state=42)\n",
    "\n",
    "# RandomizedSearchCV\n",
    "parameters = {'n_estimators': np.arange(10, 500),\n",
    "               'learning_rate': np.linspace(1e-3, 1),\n",
    "               'max_depth': np.arange(1, 20),\n",
    "               'reg_alpha': sp_loguniform(1e-14, 1e1),\n",
    "               'reg_lambda': sp_loguniform(1e-14, 1e1),}\n",
    "xgb_grid_cv = RandomizedSearchCV(xgb, parameters, verbose = True, scoring='accuracy', cv = 5, n_iter = 30, n_jobs = -1, random_state = 42)\n",
    "%timeit -n 1 -r 1 xgb_grid_cv.fit(X_train, y_train)\n",
    "\n",
    "print(f'Best estimator: {xgb_grid_cv.best_estimator_}')\n",
    "print(f'Best score: {xgb_grid_cv.best_score_}')\n",
    "\n",
    "# predict\n",
    "y_predict_xgb = xgb_grid_cv.predict(X_val)"
   ]
  },
  {
   "cell_type": "markdown",
   "metadata": {},
   "source": [
    "### 8.5. Neural Network Classifier\n",
    "\n",
    "From RandomizedSearchCV, we see that the best Neural Network Classifier estimator is the one with the following parameters:\n",
    "\n",
    "* hidden_layer_sizes = (32, 128)\n",
    "* alpha = 2.3488812958533118e-07\n",
    "* learning_rate = constant\n",
    "\n",
    "This set of parameters gives a cross-validation score of 0.854."
   ]
  },
  {
   "cell_type": "code",
   "execution_count": null,
   "metadata": {
    "ExecuteTime": {
     "start_time": "2021-11-29T01:35:38.394Z"
    }
   },
   "outputs": [],
   "source": [
    "# model definition\n",
    "mlp = MLPClassifier(random_state=42, early_stopping=True)\n",
    "\n",
    "# RandomizedSearchCV\n",
    "parameters = {'hidden_layer_sizes': [(2 ** i, 2 ** j) for j in np.arange(5, 8) for i in np.arange(4, 7)],\n",
    "               'alpha': sp_loguniform(1e-10, 1e-1),\n",
    "               'learning_rate': ['constant','adaptive']}\n",
    "mlp_grid_cv = RandomizedSearchCV(mlp, parameters, verbose = True, scoring='accuracy', cv = 5, n_iter = 30, n_jobs = -1, random_state = 42)\n",
    "%timeit -n 1 -r 1 mlp_grid_cv.fit(X_train, y_train)\n",
    "\n",
    "print(f'Best estimator: {mlp_grid_cv.best_estimator_}')\n",
    "print(f'Best score: {mlp_grid_cv.best_score_}')\n",
    "\n",
    "# predict\n",
    "y_predict_mlp = mlp_grid_cv.predict(X_val)"
   ]
  },
  {
   "cell_type": "markdown",
   "metadata": {},
   "source": [
    "It can be seen that Extreme Gradient Boosting Classifier returned the best cross validation score between all the classifiers. Thus, it will be used as the final model to predict the test dataset."
   ]
  },
  {
   "cell_type": "markdown",
   "metadata": {},
   "source": [
    "## 9. Models Performance\n",
    "\n",
    "This section will evaluate each model trained with some specific metrics, such as precision, recall, f1-score and its respectives confusion matrix."
   ]
  },
  {
   "cell_type": "markdown",
   "metadata": {},
   "source": [
    "### 9.1. KNN\n"
   ]
  },
  {
   "cell_type": "code",
   "execution_count": null,
   "metadata": {
    "ExecuteTime": {
     "start_time": "2021-11-29T01:35:38.399Z"
    }
   },
   "outputs": [],
   "source": [
    "# accuracy_score\n",
    "dict_map = {'<=50K' : 0, '>50K' : 1}\n",
    "accuracy_knn = accuracy_score(pd.Series(y_val).map(dict_map), pd.Series(y_predict_knn).map(dict_map))\n",
    "\n",
    "print(f\"Accuracy Score for KNN: {accuracy_knn}\")"
   ]
  },
  {
   "cell_type": "code",
   "execution_count": null,
   "metadata": {
    "ExecuteTime": {
     "start_time": "2021-11-29T01:35:38.401Z"
    }
   },
   "outputs": [],
   "source": [
    "#classification_report\n",
    "print(classification_report(y_val, y_predict_knn))"
   ]
  },
  {
   "cell_type": "code",
   "execution_count": null,
   "metadata": {
    "ExecuteTime": {
     "start_time": "2021-11-29T01:35:38.406Z"
    }
   },
   "outputs": [],
   "source": [
    "dict_map = {'<=50K' : 0, '>50K' : 1}\n",
    "roc_auc_knn = roc_auc_score(pd.Series(y_val).map(dict_map), pd.Series(y_predict_knn).map(dict_map))\n",
    "\n",
    "print(f\"ROC-AUC Score for KNN: {roc_auc_knn}\")"
   ]
  },
  {
   "cell_type": "code",
   "execution_count": null,
   "metadata": {
    "ExecuteTime": {
     "start_time": "2021-11-29T01:35:38.410Z"
    }
   },
   "outputs": [],
   "source": [
    "#confusion_matrix\n",
    "_ = mt.plot_confusion_matrix(y_val,y_predict_knn, normalize = False, figsize = (12,12))"
   ]
  },
  {
   "cell_type": "markdown",
   "metadata": {},
   "source": [
    "### 9.2. Support Vector Classifier (SVC)"
   ]
  },
  {
   "cell_type": "code",
   "execution_count": null,
   "metadata": {
    "ExecuteTime": {
     "start_time": "2021-11-29T01:35:38.414Z"
    }
   },
   "outputs": [],
   "source": [
    "# accuracy_score\n",
    "dict_map = {'<=50K' : 0, '>50K' : 1}\n",
    "accuracy_svc = accuracy_score(pd.Series(y_val).map(dict_map), pd.Series(y_predict_svc).map(dict_map))\n",
    "\n",
    "print(f\"Accuracy Score for SVC: {accuracy_svc}\")"
   ]
  },
  {
   "cell_type": "code",
   "execution_count": null,
   "metadata": {
    "ExecuteTime": {
     "start_time": "2021-11-29T01:35:38.418Z"
    }
   },
   "outputs": [],
   "source": [
    "#classification_report\n",
    "print(classification_report(y_val, y_predict_svc))"
   ]
  },
  {
   "cell_type": "code",
   "execution_count": null,
   "metadata": {
    "ExecuteTime": {
     "start_time": "2021-11-29T01:35:38.424Z"
    }
   },
   "outputs": [],
   "source": [
    "dict_map = {'<=50K' : 0, '>50K' : 1}\n",
    "roc_auc_svc = roc_auc_score(pd.Series(y_val).map(dict_map), pd.Series(y_predict_svc).map(dict_map))\n",
    "\n",
    "print(f\"ROC-AUC Score for SVC: {roc_auc_svc}\")"
   ]
  },
  {
   "cell_type": "code",
   "execution_count": null,
   "metadata": {
    "ExecuteTime": {
     "start_time": "2021-11-29T01:35:38.427Z"
    }
   },
   "outputs": [],
   "source": [
    "#confusion_matrix\n",
    "_ = mt.plot_confusion_matrix(y_val,y_predict_svc, normalize = False, figsize = (12,12))"
   ]
  },
  {
   "cell_type": "markdown",
   "metadata": {},
   "source": [
    "### 9.3. Random Forest Classifier"
   ]
  },
  {
   "cell_type": "code",
   "execution_count": null,
   "metadata": {
    "ExecuteTime": {
     "start_time": "2021-11-29T01:35:38.431Z"
    }
   },
   "outputs": [],
   "source": [
    "# accuracy_score\n",
    "dict_map = {'<=50K' : 0, '>50K' : 1}\n",
    "accuracy_rfc = accuracy_score(pd.Series(y_val).map(dict_map), pd.Series(y_predict_rfc).map(dict_map))\n",
    "\n",
    "print(f\"Accuracy Score for Random Forest Classifier: {accuracy_rfc}\")"
   ]
  },
  {
   "cell_type": "code",
   "execution_count": null,
   "metadata": {
    "ExecuteTime": {
     "start_time": "2021-11-29T01:35:38.434Z"
    }
   },
   "outputs": [],
   "source": [
    "#classification_report\n",
    "print(classification_report(y_val, y_predict_rfc))"
   ]
  },
  {
   "cell_type": "code",
   "execution_count": null,
   "metadata": {
    "ExecuteTime": {
     "start_time": "2021-11-29T01:35:38.439Z"
    }
   },
   "outputs": [],
   "source": [
    "dict_map = {'<=50K' : 0, '>50K' : 1}\n",
    "roc_auc_rfc = roc_auc_score(pd.Series(y_val).map(dict_map), pd.Series(y_predict_rfc).map(dict_map))\n",
    "\n",
    "print(f\"ROC-AUC Score for Random Forest Classifier: {roc_auc_rfc}\")"
   ]
  },
  {
   "cell_type": "code",
   "execution_count": null,
   "metadata": {
    "ExecuteTime": {
     "start_time": "2021-11-29T01:35:38.443Z"
    }
   },
   "outputs": [],
   "source": [
    "#confusion_matrix\n",
    "_ = mt.plot_confusion_matrix(y_val,y_predict_rfc, normalize = False, figsize = (12,12))"
   ]
  },
  {
   "cell_type": "markdown",
   "metadata": {},
   "source": [
    "### 9.4. Extreme Gradient Boosting Classifier"
   ]
  },
  {
   "cell_type": "code",
   "execution_count": null,
   "metadata": {
    "ExecuteTime": {
     "start_time": "2021-11-29T01:35:38.448Z"
    }
   },
   "outputs": [],
   "source": [
    "# accuracy_score\n",
    "dict_map = {'<=50K' : 0, '>50K' : 1}\n",
    "accuracy_xgb = accuracy_score(pd.Series(y_val).map(dict_map), pd.Series(y_predict_xgb).map(dict_map))\n",
    "\n",
    "print(f\"Accuracy Score for Extreme Gradient Boosting Classifier: {accuracy_xgb}\")"
   ]
  },
  {
   "cell_type": "code",
   "execution_count": null,
   "metadata": {
    "ExecuteTime": {
     "start_time": "2021-11-29T01:35:38.451Z"
    }
   },
   "outputs": [],
   "source": [
    "#classification_report\n",
    "print(classification_report(y_val, y_predict_xgb))"
   ]
  },
  {
   "cell_type": "code",
   "execution_count": null,
   "metadata": {
    "ExecuteTime": {
     "start_time": "2021-11-29T01:35:38.455Z"
    }
   },
   "outputs": [],
   "source": [
    "dict_map = {'<=50K' : 0, '>50K' : 1}\n",
    "roc_auc_xgb = roc_auc_score(pd.Series(y_val).map(dict_map), pd.Series(y_predict_xgb).map(dict_map))\n",
    "\n",
    "print(f\"ROC-AUC Score for Extreme Gradient Boosting Classifier: {roc_auc_xgb}\")"
   ]
  },
  {
   "cell_type": "code",
   "execution_count": null,
   "metadata": {
    "ExecuteTime": {
     "start_time": "2021-11-29T01:35:38.460Z"
    }
   },
   "outputs": [],
   "source": [
    "#confusion_matrix\n",
    "_ = mt.plot_confusion_matrix(y_val,y_predict_xgb, normalize = False, figsize = (12,12))"
   ]
  },
  {
   "cell_type": "markdown",
   "metadata": {},
   "source": [
    "### 9.5. Neural Network Classifier"
   ]
  },
  {
   "cell_type": "code",
   "execution_count": null,
   "metadata": {
    "ExecuteTime": {
     "start_time": "2021-11-29T01:35:38.463Z"
    }
   },
   "outputs": [],
   "source": [
    "# accuracy_score\n",
    "dict_map = {'<=50K' : 0, '>50K' : 1}\n",
    "accuracy_mlp = accuracy_score(pd.Series(y_val).map(dict_map), pd.Series(y_predict_mlp).map(dict_map))\n",
    "\n",
    "print(f\"Accuracy Score for Neural Network Classifier: {accuracy_mlp}\")"
   ]
  },
  {
   "cell_type": "code",
   "execution_count": null,
   "metadata": {
    "ExecuteTime": {
     "start_time": "2021-11-29T01:35:38.465Z"
    },
    "scrolled": true
   },
   "outputs": [],
   "source": [
    "#classification_report\n",
    "print(classification_report(y_val, y_predict_mlp))"
   ]
  },
  {
   "cell_type": "code",
   "execution_count": null,
   "metadata": {
    "ExecuteTime": {
     "start_time": "2021-11-29T01:35:38.467Z"
    }
   },
   "outputs": [],
   "source": [
    "dict_map = {'<=50K' : 0, '>50K' : 1}\n",
    "roc_auc_mlp = roc_auc_score(pd.Series(y_val).map(dict_map), pd.Series(y_predict_mlp).map(dict_map))\n",
    "\n",
    "print(f\"ROC-AUC Score for Neural Network Classifier: {roc_auc_mlp}\")"
   ]
  },
  {
   "cell_type": "code",
   "execution_count": null,
   "metadata": {
    "ExecuteTime": {
     "start_time": "2021-11-29T01:35:38.469Z"
    },
    "scrolled": false
   },
   "outputs": [],
   "source": [
    "#confusion_matrix\n",
    "_ = mt.plot_confusion_matrix(y_val,y_predict_mlp, normalize = False, figsize = (12,12))"
   ]
  },
  {
   "cell_type": "markdown",
   "metadata": {},
   "source": [
    "### 9.6. Score Summarization\n",
    "\n",
    "To compare each classifier, a consolidated table is elaborated with the pertinent metrics for the validation dataset metrics."
   ]
  },
  {
   "cell_type": "code",
   "execution_count": null,
   "metadata": {
    "ExecuteTime": {
     "start_time": "2021-11-29T01:35:38.475Z"
    }
   },
   "outputs": [],
   "source": [
    "metrics = [\n",
    "            ['KNN', 0.86317, 0.82, 0.79, 0.80, 0.786],\n",
    "            ['SVC', 0.87134, 0.84, 0.78, 0.80, 0.779],\n",
    "            ['Random Forest Classifier', 0.86379, 0.83, 0.77, 0.80, 0.775],\n",
    "            ['Extreme Gradient Boosting Classifier', 0.8736, 0.84, 0.80, 0.81, 0.797],\n",
    "            ['Neural Network Classifier', 0.85549, 0.81, 0.77, 0.78, 0.765],\n",
    "          ]\n",
    "\n",
    "df_metrics = pd.DataFrame(metrics, columns = ['Classifier', 'Accuracy', 'Precision', 'Recall', 'F1-Score', 'ROC-AUC Score'])\n",
    "\n",
    "df_metrics"
   ]
  },
  {
   "cell_type": "markdown",
   "metadata": {},
   "source": [
    "From the metrics in the validation dataset, it can be seen that the best model is the Extreme Gradient Boosting Classifier, which will then be used to predict values on the test dataset."
   ]
  },
  {
   "cell_type": "markdown",
   "metadata": {},
   "source": [
    "## 10. Fitting the model using all the data, best model and best parameters"
   ]
  },
  {
   "cell_type": "code",
   "execution_count": null,
   "metadata": {
    "ExecuteTime": {
     "start_time": "2021-11-29T01:35:38.479Z"
    }
   },
   "outputs": [],
   "source": [
    "# model definition\n",
    "best_model = XGBClassifier(base_score=0.5, booster='gbtree', colsample_bylevel=1,\n",
    "              colsample_bynode=1, colsample_bytree=1, gamma=0, gpu_id=-1,\n",
    "              importance_type='gain', interaction_constraints='',\n",
    "              learning_rate=0.42914285714285716, max_delta_step=0, max_depth=2,\n",
    "              min_child_weight=1, monotone_constraints='()',\n",
    "              n_estimators=179, n_jobs=0, num_parallel_tree=1, random_state=42,\n",
    "              reg_alpha=0.013237491476160993, reg_lambda=3.169978726120134e-05,\n",
    "              scale_pos_weight=1, subsample=1, tree_method='exact',\n",
    "              validate_parameters=1, verbosity=None)\n",
    "\n",
    "# fitting model\n",
    "best_model.fit(X, y)"
   ]
  },
  {
   "cell_type": "markdown",
   "metadata": {},
   "source": [
    "## 11. Predicting"
   ]
  },
  {
   "cell_type": "code",
   "execution_count": null,
   "metadata": {
    "ExecuteTime": {
     "start_time": "2021-11-29T01:35:38.482Z"
    }
   },
   "outputs": [],
   "source": [
    "# predict\n",
    "test['income'] = best_model.predict(test.drop(columns = 'Id'))\n",
    "\n",
    "test.head()"
   ]
  },
  {
   "cell_type": "markdown",
   "metadata": {},
   "source": [
    "## 9. Exporting result"
   ]
  },
  {
   "cell_type": "code",
   "execution_count": null,
   "metadata": {
    "ExecuteTime": {
     "start_time": "2021-11-29T01:35:38.484Z"
    }
   },
   "outputs": [],
   "source": [
    "export_path = \"./submissions/submission.csv\"\n",
    "test[['Id', 'income']].to_csv(export_path, index = False)"
   ]
  }
 ],
 "metadata": {
  "hide_input": false,
  "kernelspec": {
   "display_name": "Python 3",
   "language": "python",
   "name": "python3"
  },
  "language_info": {
   "codemirror_mode": {
    "name": "ipython",
    "version": 3
   },
   "file_extension": ".py",
   "mimetype": "text/x-python",
   "name": "python",
   "nbconvert_exporter": "python",
   "pygments_lexer": "ipython3",
   "version": "3.8.5"
  }
 },
 "nbformat": 4,
 "nbformat_minor": 4
}
